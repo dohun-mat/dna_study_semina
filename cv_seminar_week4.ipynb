{
  "nbformat": 4,
  "nbformat_minor": 0,
  "metadata": {
    "colab": {
      "provenance": [],
      "include_colab_link": true
    },
    "kernelspec": {
      "name": "python3",
      "display_name": "Python 3"
    },
    "language_info": {
      "name": "python"
    },
    "accelerator": "GPU",
    "gpuClass": "standard"
  },
  "cells": [
    {
      "cell_type": "markdown",
      "metadata": {
        "id": "view-in-github",
        "colab_type": "text"
      },
      "source": [
        "<a href=\"https://colab.research.google.com/github/dohun-mat/dna_study_semina/blob/main/cv_seminar_week4.ipynb\" target=\"_parent\"><img src=\"https://colab.research.google.com/assets/colab-badge.svg\" alt=\"Open In Colab\"/></a>"
      ]
    },
    {
      "cell_type": "code",
      "source": [
        "from google.colab import drive\n",
        "drive.mount('/content/drive')"
      ],
      "metadata": {
        "colab": {
          "base_uri": "https://localhost:8080/"
        },
        "id": "dlIQXzM4-wio",
        "outputId": "da7b5513-bd19-44e0-e3db-1d8ec3bc005b"
      },
      "execution_count": 1,
      "outputs": [
        {
          "output_type": "stream",
          "name": "stdout",
          "text": [
            "Mounted at /content/drive\n"
          ]
        }
      ]
    },
    {
      "cell_type": "code",
      "source": [
        "import torch\n",
        "import torchvision\n",
        "from torchvision  import transforms\n",
        "import os\n",
        "import glob\n",
        "\n",
        "device = 'cuda' if torch.cuda.is_available() else 'cpu'\n",
        "torch.manual_seed(42)\n",
        "if device == 'cuda':\n",
        "  torch.cuda.manual_seed_all(42)\n"
      ],
      "metadata": {
        "id": "FSRJzEAXVmyc"
      },
      "execution_count": 2,
      "outputs": []
    },
    {
      "cell_type": "code",
      "source": [
        "device"
      ],
      "metadata": {
        "colab": {
          "base_uri": "https://localhost:8080/",
          "height": 36
        },
        "id": "alMrDmy_WelF",
        "outputId": "047ddfff-eff8-4ad7-acc5-744719d7f737"
      },
      "execution_count": 3,
      "outputs": [
        {
          "output_type": "execute_result",
          "data": {
            "text/plain": [
              "'cuda'"
            ],
            "application/vnd.google.colaboratory.intrinsic+json": {
              "type": "string"
            }
          },
          "metadata": {},
          "execution_count": 3
        }
      ]
    },
    {
      "cell_type": "code",
      "source": [
        "train_path = '/content/drive/MyDrive/Colab Notebooks/dna/week2/CV_seminar_project/output/train'\n",
        "test_path = '/content/drive/MyDrive/Colab Notebooks/dna/week2/CV_seminar_project/output/test'\n",
        "\n",
        "dolphin_dir = '/dolphin'\n",
        "shark_dir = '/shark'\n",
        "whale_dir = '/whale'"
      ],
      "metadata": {
        "id": "uX06UN0RW1A1"
      },
      "execution_count": 5,
      "outputs": []
    },
    {
      "cell_type": "code",
      "source": [
        "#pytorch 데이터셋 클래스 실습\n",
        "##1.라ㅣ브러리를 이용하기\n",
        "# 이미저 전처리하기\n",
        "\n",
        "# resize하기 ->(224,224)로 바꾸기\n",
        "# tensor화 하기 픽셀값을 -> 0~1로바꾸기"
      ],
      "metadata": {
        "id": "B1wLVt6yW36b"
      },
      "execution_count": null,
      "outputs": []
    },
    {
      "cell_type": "code",
      "source": [
        "Aug_imgs = transforms.Compose (\n",
        "    [ transforms.Resize( (224,224) ), \n",
        "        # transforms.RandomCrop(180), #이미지를 랜덤으로 자른다.\n",
        "        transforms.ColorJitter(brightness=0.2, contrast=0.2, saturation=0.2, hue=0.2),\n",
        "        transforms.RandomHorizontalFlip(p=0.5),\n",
        "        transforms.ToTensor(),\n",
        "     \n",
        "     transforms.Normalize(mean=[0.485, 0.456, 0.406],\n",
        "                          std=[0.229,0.224, 0.225])\n",
        "    ]\n",
        ")\n",
        "\n",
        "Aug_train = torchvision.datasets.ImageFolder(root=train_path, transform = Aug_imgs) #어그멘테이션진행\n",
        "Aug_test = torchvision.datasets.ImageFolder(root=test_path, transform = Aug_imgs)  #test셋은 어그멘테이션을 하지 않는다.\n",
        "\n",
        "# Normalize\n",
        "\n",
        "# (X-Mean)/std\n",
        "\n",
        "# 1. ImageNet 데이터셋의 Mean, std를 이용한다. \n",
        "# 2. 지금 내가 가지고 있는 데ㅣ터셋의 통계값을 이용한다.(train)"
      ],
      "metadata": {
        "id": "9HaoMiQ-W46E"
      },
      "execution_count": 35,
      "outputs": []
    },
    {
      "cell_type": "code",
      "source": [
        "# 1.000 -> 학습 x\n",
        "# 2.aug -> 0.6 ~ 0.7 학습 o"
      ],
      "metadata": {
        "id": "tzFtj692fcam"
      },
      "execution_count": 37,
      "outputs": []
    },
    {
      "cell_type": "code",
      "source": [
        "train_loader = torch.utils.data.DataLoader(Aug_train, batch_size=4,\n",
        "                                      shuffle=True, num_workers=0)\n",
        "test_loader = torch.utils.data.DataLoader(Aug_test, batch_size=4,\n",
        "                                      shuffle=True, num_workers=0)"
      ],
      "metadata": {
        "id": "ZemVnF-1dtzi"
      },
      "execution_count": 36,
      "outputs": []
    },
    {
      "cell_type": "code",
      "source": [
        "for data, label in train_loader: #trainloard는 값을 두개씩 뱉음 이미지랑 label\n",
        "  output = model(data,)"
      ],
      "metadata": {
        "id": "4FaC1OiacL46"
      },
      "execution_count": 45,
      "outputs": []
    },
    {
      "cell_type": "code",
      "source": [
        "label #->이미지 라벨(상어, 돌고래, 상어 상어) -> 원핫 인코딩"
      ],
      "metadata": {
        "colab": {
          "base_uri": "https://localhost:8080/"
        },
        "id": "PFkZirX3gEq5",
        "outputId": "fb878ce9-eee2-4e39-addc-c231da194b3c"
      },
      "execution_count": 46,
      "outputs": [
        {
          "output_type": "execute_result",
          "data": {
            "text/plain": [
              "tensor([0, 2, 1, 0])"
            ]
          },
          "metadata": {},
          "execution_count": 46
        }
      ]
    },
    {
      "cell_type": "code",
      "source": [
        "data[1]"
      ],
      "metadata": {
        "colab": {
          "base_uri": "https://localhost:8080/"
        },
        "id": "L19y5T9Ff8TE",
        "outputId": "7fd96add-8e8b-4111-e806-384448f9da03"
      },
      "execution_count": 43,
      "outputs": [
        {
          "output_type": "execute_result",
          "data": {
            "text/plain": [
              "tensor([2, 2, 0, 1])"
            ]
          },
          "metadata": {},
          "execution_count": 43
        }
      ]
    },
    {
      "cell_type": "code",
      "source": [
        "data.shape #[4, 3, 224, 224] -> B C H W"
      ],
      "metadata": {
        "colab": {
          "base_uri": "https://localhost:8080/",
          "height": 176
        },
        "id": "FzRcOwewf1sl",
        "outputId": "4fcc42d3-a012-47ea-f27a-208a24367f06"
      },
      "execution_count": 44,
      "outputs": [
        {
          "output_type": "error",
          "ename": "AttributeError",
          "evalue": "ignored",
          "traceback": [
            "\u001b[0;31m---------------------------------------------------------------------------\u001b[0m",
            "\u001b[0;31mAttributeError\u001b[0m                            Traceback (most recent call last)",
            "\u001b[0;32m<ipython-input-44-9a00fe8d3951>\u001b[0m in \u001b[0;36m<module>\u001b[0;34m\u001b[0m\n\u001b[0;32m----> 1\u001b[0;31m \u001b[0mdata\u001b[0m\u001b[0;34m.\u001b[0m\u001b[0mshape\u001b[0m\u001b[0;34m\u001b[0m\u001b[0;34m\u001b[0m\u001b[0m\n\u001b[0m",
            "\u001b[0;31mAttributeError\u001b[0m: 'list' object has no attribute 'shape'"
          ]
        }
      ]
    },
    {
      "cell_type": "code",
      "source": [],
      "metadata": {
        "id": "ZanMYxo3csej"
      },
      "execution_count": null,
      "outputs": []
    },
    {
      "cell_type": "code",
      "source": [],
      "metadata": {
        "id": "JKTyiE7zdw3L"
      },
      "execution_count": null,
      "outputs": []
    },
    {
      "cell_type": "code",
      "source": [],
      "metadata": {
        "id": "8jdwvzzadw7C"
      },
      "execution_count": null,
      "outputs": []
    },
    {
      "cell_type": "code",
      "source": [],
      "metadata": {
        "id": "-j-L_h0ddw-C"
      },
      "execution_count": null,
      "outputs": []
    },
    {
      "cell_type": "code",
      "source": [],
      "metadata": {
        "id": "MYQkBxUFcsiI"
      },
      "execution_count": null,
      "outputs": []
    },
    {
      "cell_type": "code",
      "source": [],
      "metadata": {
        "id": "cMWSi8JTcs2-"
      },
      "execution_count": null,
      "outputs": []
    },
    {
      "cell_type": "code",
      "source": [],
      "metadata": {
        "id": "ywRBdsZUcs6g"
      },
      "execution_count": null,
      "outputs": []
    },
    {
      "cell_type": "code",
      "source": [
        "print(train_path)"
      ],
      "metadata": {
        "colab": {
          "base_uri": "https://localhost:8080/"
        },
        "id": "_gOJzlk_YuUr",
        "outputId": "c993d185-39bb-45c6-8def-e4fe2faacaf3"
      },
      "execution_count": 7,
      "outputs": [
        {
          "output_type": "stream",
          "name": "stdout",
          "text": [
            "/content/drive/MyDrive/Colab Notebooks/dna/week2/CV_seminar_project/output/train\n"
          ]
        }
      ]
    },
    {
      "cell_type": "code",
      "source": [
        "glob.glob(train_path+'/*')"
      ],
      "metadata": {
        "colab": {
          "base_uri": "https://localhost:8080/"
        },
        "id": "Oy_gK-arY9wS",
        "outputId": "4fee930c-72b3-4b88-b070-bfd470b9be5b"
      },
      "execution_count": 8,
      "outputs": [
        {
          "output_type": "execute_result",
          "data": {
            "text/plain": [
              "['/content/drive/MyDrive/Colab Notebooks/dna/week2/CV_seminar_project/output/train/whale',\n",
              " '/content/drive/MyDrive/Colab Notebooks/dna/week2/CV_seminar_project/output/train/dolphin',\n",
              " '/content/drive/MyDrive/Colab Notebooks/dna/week2/CV_seminar_project/output/train/shark']"
            ]
          },
          "metadata": {},
          "execution_count": 8
        }
      ]
    },
    {
      "cell_type": "code",
      "source": [
        "preprop_train[0][1]"
      ],
      "metadata": {
        "colab": {
          "base_uri": "https://localhost:8080/"
        },
        "id": "_0_MQFCuZGzp",
        "outputId": "a2c162cf-6343-4d43-a590-001f9d7afb6b"
      },
      "execution_count": 18,
      "outputs": [
        {
          "output_type": "execute_result",
          "data": {
            "text/plain": [
              "0"
            ]
          },
          "metadata": {},
          "execution_count": 18
        }
      ]
    },
    {
      "cell_type": "code",
      "source": [],
      "metadata": {
        "id": "BsxYp_enW48v"
      },
      "execution_count": null,
      "outputs": []
    },
    {
      "cell_type": "code",
      "source": [],
      "metadata": {
        "id": "S67a_XTEW4_d"
      },
      "execution_count": null,
      "outputs": []
    },
    {
      "cell_type": "code",
      "source": [],
      "metadata": {
        "id": "iF1-LNg7W5CA"
      },
      "execution_count": null,
      "outputs": []
    },
    {
      "cell_type": "code",
      "source": [],
      "metadata": {
        "id": "r9kBfSR8W5Ez"
      },
      "execution_count": null,
      "outputs": []
    },
    {
      "cell_type": "code",
      "source": [],
      "metadata": {
        "id": "MVpupkjwW5Ho"
      },
      "execution_count": null,
      "outputs": []
    },
    {
      "cell_type": "code",
      "source": [],
      "metadata": {
        "id": "5iHRVxuwW5LA"
      },
      "execution_count": null,
      "outputs": []
    },
    {
      "cell_type": "code",
      "source": [],
      "metadata": {
        "id": "G1_eKyJmW5Og"
      },
      "execution_count": null,
      "outputs": []
    },
    {
      "cell_type": "code",
      "source": [],
      "metadata": {
        "id": "ad_eWBfFW5Qp"
      },
      "execution_count": null,
      "outputs": []
    },
    {
      "cell_type": "code",
      "source": [],
      "metadata": {
        "id": "N8h9nRK2W5S3"
      },
      "execution_count": null,
      "outputs": []
    },
    {
      "cell_type": "code",
      "source": [],
      "metadata": {
        "id": "41RNtq-9W5VV"
      },
      "execution_count": null,
      "outputs": []
    },
    {
      "cell_type": "code",
      "source": [
        "# pip install split-folders"
      ],
      "metadata": {
        "colab": {
          "base_uri": "https://localhost:8080/"
        },
        "id": "GaaS5LlORXzU",
        "outputId": "bbabc200-d36d-48fa-f31b-a9827209fb70"
      },
      "execution_count": null,
      "outputs": [
        {
          "output_type": "stream",
          "name": "stdout",
          "text": [
            "Looking in indexes: https://pypi.org/simple, https://us-python.pkg.dev/colab-wheels/public/simple/\n",
            "Collecting split-folders\n",
            "  Downloading split_folders-0.5.1-py3-none-any.whl (8.4 kB)\n",
            "Installing collected packages: split-folders\n",
            "Successfully installed split-folders-0.5.1\n"
          ]
        }
      ]
    },
    {
      "cell_type": "code",
      "source": [
        "#이미지 읽어오는 데 필요한 라이브러리\n",
        "import cv2 as cv\n",
        "import glob\n",
        "import shutil\n",
        "from collections import defaultdict\n",
        "import os\n",
        "import splitfolders #train,test,validation을 한번에 나누는 라이브러리\n",
        "\n"
      ],
      "metadata": {
        "id": "vboV1_kTAAMq"
      },
      "execution_count": null,
      "outputs": []
    },
    {
      "cell_type": "code",
      "source": [
        "%cd /content/drive/MyDrive/Colab Notebooks/dna/week2/CV_seminar_project"
      ],
      "metadata": {
        "colab": {
          "base_uri": "https://localhost:8080/"
        },
        "id": "uch8DaePb1_K",
        "outputId": "a2a9839f-3cf5-4413-b9e9-bf2b5eead2ae"
      },
      "execution_count": null,
      "outputs": [
        {
          "output_type": "stream",
          "name": "stdout",
          "text": [
            "/content/drive/MyDrive/Colab Notebooks/dna/week2/CV_seminar_project\n"
          ]
        },
        {
          "output_type": "stream",
          "name": "stderr",
          "text": [
            "\rCopying files: 656 files [00:21, 101.20 files/s]"
          ]
        }
      ]
    },
    {
      "cell_type": "markdown",
      "source": [
        "#이미지 불러오기"
      ],
      "metadata": {
        "id": "-KaTXswDAxmq"
      }
    },
    {
      "cell_type": "code",
      "source": [
        "splitfolders.ratio(\"original\", output=\"output\", seed=1337, ratio=(.7, .2, .1))"
      ],
      "metadata": {
        "colab": {
          "base_uri": "https://localhost:8080/"
        },
        "id": "Qi_06y_Tbrlz",
        "outputId": "d172ca8c-f4e9-4813-b0da-397d2f2def23"
      },
      "execution_count": null,
      "outputs": [
        {
          "output_type": "stream",
          "name": "stderr",
          "text": [
            "\n",
            "Copying files: 0 files [00:00, ? files/s]\u001b[A\n",
            "Copying files: 4 files [00:00, 38.52 files/s]\u001b[A\n",
            "Copying files: 13 files [00:00, 65.61 files/s]\u001b[A\n",
            "Copying files: 25 files [00:00, 87.67 files/s]\u001b[A\n",
            "Copying files: 34 files [00:00, 87.29 files/s]\u001b[A\n",
            "Copying files: 45 files [00:00, 84.82 files/s]\u001b[A\n",
            "Copying files: 57 files [00:00, 94.09 files/s]\u001b[A\n",
            "Copying files: 67 files [00:00, 91.06 files/s]\u001b[A\n",
            "Copying files: 79 files [00:00, 97.53 files/s]\u001b[A\n",
            "Copying files: 89 files [00:01, 89.16 files/s]\u001b[A\n",
            "Copying files: 99 files [00:01, 85.37 files/s]\u001b[A\n",
            "Copying files: 109 files [00:01, 89.03 files/s]\u001b[A\n",
            "Copying files: 119 files [00:01, 87.92 files/s]\u001b[A\n",
            "Copying files: 129 files [00:01, 90.99 files/s]\u001b[A\n",
            "Copying files: 139 files [00:01, 88.96 files/s]\u001b[A\n",
            "Copying files: 149 files [00:01, 88.37 files/s]\u001b[A\n",
            "Copying files: 159 files [00:01, 91.30 files/s]\u001b[A\n",
            "Copying files: 169 files [00:01, 91.88 files/s]\u001b[A\n",
            "Copying files: 179 files [00:02, 93.33 files/s]\u001b[A\n",
            "Copying files: 189 files [00:02, 91.37 files/s]\u001b[A\n",
            "Copying files: 199 files [00:02, 88.65 files/s]\u001b[A\n",
            "Copying files: 211 files [00:02, 96.42 files/s]\u001b[A\n",
            "Copying files: 221 files [00:02, 91.22 files/s]\u001b[A\n",
            "Copying files: 231 files [00:02, 89.76 files/s]\u001b[A\n",
            "Copying files: 242 files [00:02, 93.54 files/s]\u001b[A\n",
            "Copying files: 252 files [00:02, 90.70 files/s]\u001b[A\n",
            "Copying files: 263 files [00:02, 91.08 files/s]\u001b[A\n",
            "Copying files: 274 files [00:03, 95.93 files/s]\u001b[A\n",
            "Copying files: 284 files [00:03, 89.78 files/s]\u001b[A\n",
            "Copying files: 295 files [00:03, 89.64 files/s]\u001b[A\n",
            "Copying files: 306 files [00:03, 93.61 files/s]\u001b[A\n",
            "Copying files: 316 files [00:03, 88.11 files/s]\u001b[A\n",
            "Copying files: 328 files [00:03, 89.35 files/s]\u001b[A\n",
            "Copying files: 339 files [00:03, 94.58 files/s]\u001b[A\n",
            "Copying files: 349 files [00:03, 92.20 files/s]\u001b[A\n",
            "Copying files: 360 files [00:03, 95.37 files/s]\u001b[A\n",
            "Copying files: 370 files [00:04, 92.47 files/s]\u001b[A\n",
            "Copying files: 381 files [00:04, 89.64 files/s]\u001b[A\n",
            "Copying files: 393 files [00:04, 96.31 files/s]\u001b[A\n",
            "Copying files: 403 files [00:04, 94.07 files/s]\u001b[A\n",
            "Copying files: 413 files [00:04, 93.84 files/s]\u001b[A\n",
            "Copying files: 423 files [00:04, 92.32 files/s]\u001b[A\n",
            "Copying files: 434 files [00:04, 93.07 files/s]\u001b[A\n",
            "Copying files: 446 files [00:04, 99.83 files/s]\u001b[A\n",
            "Copying files: 457 files [00:05, 84.28 files/s]\u001b[A\n",
            "Copying files: 467 files [00:05, 86.45 files/s]\u001b[A\n",
            "Copying files: 477 files [00:05, 85.22 files/s]\u001b[A\n",
            "Copying files: 486 files [00:05, 85.47 files/s]\u001b[A\n",
            "Copying files: 497 files [00:05, 91.60 files/s]\u001b[A\n",
            "Copying files: 507 files [00:05, 88.66 files/s]\u001b[A\n",
            "Copying files: 519 files [00:05, 95.15 files/s]\u001b[A\n",
            "Copying files: 529 files [00:05, 94.61 files/s]\u001b[A\n",
            "Copying files: 539 files [00:05, 92.12 files/s]\u001b[A\n",
            "Copying files: 550 files [00:06, 96.53 files/s]\u001b[A\n",
            "Copying files: 560 files [00:06, 75.29 files/s]\u001b[A\n",
            "Copying files: 569 files [00:06, 78.43 files/s]\u001b[A\n",
            "Copying files: 580 files [00:06, 84.71 files/s]\u001b[A\n",
            "Copying files: 589 files [00:06, 83.27 files/s]\u001b[A\n",
            "Copying files: 598 files [00:06, 83.41 files/s]\u001b[A\n",
            "Copying files: 607 files [00:06, 83.32 files/s]\u001b[A\n",
            "Copying files: 618 files [00:06, 83.91 files/s]\u001b[A\n",
            "Copying files: 630 files [00:07, 91.75 files/s]\u001b[A\n",
            "Copying files: 640 files [00:07, 88.88 files/s]\u001b[A\n",
            "Copying files: 650 files [00:07, 91.41 files/s]\u001b[A\n",
            "Copying files: 660 files [00:07, 90.23 files/s]\u001b[A\n",
            "Copying files: 670 files [00:07, 89.64 files/s]\u001b[A\n",
            "Copying files: 680 files [00:07, 91.53 files/s]\u001b[A\n",
            "Copying files: 690 files [00:07, 87.47 files/s]\u001b[A\n",
            "Copying files: 699 files [00:07, 86.34 files/s]\u001b[A\n",
            "Copying files: 710 files [00:07, 89.70 files/s]\u001b[A\n",
            "Copying files: 720 files [00:08, 88.77 files/s]\u001b[A\n",
            "Copying files: 731 files [00:08, 86.96 files/s]\u001b[A\n",
            "Copying files: 741 files [00:08, 89.71 files/s]\u001b[A\n",
            "Copying files: 751 files [00:08, 86.95 files/s]\u001b[A\n",
            "Copying files: 760 files [00:08, 85.49 files/s]\u001b[A\n",
            "Copying files: 769 files [00:08, 81.84 files/s]\u001b[A\n",
            "Copying files: 780 files [00:08, 89.37 files/s]\u001b[A\n",
            "Copying files: 790 files [00:08, 89.25 files/s]\u001b[A\n",
            "Copying files: 800 files [00:08, 88.91 files/s]\u001b[A\n",
            "Copying files: 811 files [00:09, 93.59 files/s]\u001b[A\n",
            "Copying files: 821 files [00:09, 86.78 files/s]\u001b[A\n",
            "Copying files: 830 files [00:09, 45.65 files/s]\u001b[A\n",
            "Copying files: 837 files [00:09, 41.31 files/s]\u001b[A\n",
            "Copying files: 847 files [00:09, 50.06 files/s]\u001b[A\n",
            "Copying files: 858 files [00:10, 60.84 files/s]\u001b[A\n",
            "Copying files: 866 files [00:10, 60.97 files/s]\u001b[A\n",
            "Copying files: 878 files [00:10, 73.39 files/s]\u001b[A\n",
            "Copying files: 887 files [00:10, 74.55 files/s]\u001b[A\n",
            "Copying files: 896 files [00:10, 72.52 files/s]\u001b[A\n",
            "Copying files: 904 files [00:10, 66.89 files/s]\u001b[A\n",
            "Copying files: 912 files [00:10, 68.50 files/s]\u001b[A\n",
            "Copying files: 922 files [00:10, 75.97 files/s]\u001b[A\n",
            "Copying files: 932 files [00:11, 80.87 files/s]\u001b[A\n",
            "Copying files: 943 files [00:11, 83.01 files/s]\u001b[A\n",
            "Copying files: 954 files [00:11, 88.51 files/s]\u001b[A\n",
            "Copying files: 964 files [00:11, 88.56 files/s]\u001b[A\n",
            "Copying files: 975 files [00:11, 94.19 files/s]\u001b[A\n",
            "Copying files: 985 files [00:11, 63.01 files/s]\u001b[A\n",
            "Copying files: 993 files [00:11, 64.46 files/s]\u001b[A\n",
            "Copying files: 1005 files [00:12, 72.76 files/s]\u001b[A\n",
            "Copying files: 1015 files [00:12, 78.56 files/s]\u001b[A\n",
            "Copying files: 1024 files [00:12, 75.70 files/s]\u001b[A\n",
            "Copying files: 1034 files [00:12, 81.19 files/s]\u001b[A\n",
            "Copying files: 1043 files [00:12, 81.44 files/s]\u001b[A\n",
            "Copying files: 1054 files [00:12, 87.83 files/s]\u001b[A\n",
            "Copying files: 1064 files [00:12, 85.95 files/s]\u001b[A\n",
            "Copying files: 1073 files [00:12, 84.59 files/s]\u001b[A\n",
            "Copying files: 1085 files [00:12, 93.37 files/s]\u001b[A\n",
            "Copying files: 1095 files [00:13, 88.97 files/s]\u001b[A\n",
            "Copying files: 1105 files [00:13, 87.39 files/s]\u001b[A\n",
            "Copying files: 1116 files [00:13, 92.50 files/s]\u001b[A\n",
            "Copying files: 1126 files [00:13, 88.78 files/s]\u001b[A\n",
            "Copying files: 1135 files [00:13, 87.10 files/s]\u001b[A\n",
            "Copying files: 1146 files [00:13, 92.73 files/s]\u001b[A\n",
            "Copying files: 1156 files [00:13, 86.62 files/s]\u001b[A\n",
            "Copying files: 1166 files [00:13, 84.11 files/s]\u001b[A\n",
            "Copying files: 1177 files [00:13, 89.58 files/s]\u001b[A\n",
            "Copying files: 1187 files [00:14, 87.25 files/s]\u001b[A\n",
            "Copying files: 1198 files [00:14, 90.69 files/s]\u001b[A\n",
            "Copying files: 1208 files [00:14, 85.64 files/s]\u001b[A\n",
            "Copying files: 1218 files [00:14, 85.54 files/s]\u001b[A\n",
            "Copying files: 1229 files [00:14, 91.14 files/s]\u001b[A\n",
            "Copying files: 1239 files [00:14, 85.35 files/s]\u001b[A\n",
            "Copying files: 1250 files [00:14, 91.07 files/s]\u001b[A\n",
            "Copying files: 1260 files [00:14, 86.67 files/s]\u001b[A\n",
            "Copying files: 1269 files [00:15, 85.55 files/s]\u001b[A\n",
            "Copying files: 1280 files [00:15, 90.50 files/s]\u001b[A\n",
            "Copying files: 1290 files [00:15, 86.40 files/s]\u001b[A\n",
            "Copying files: 1301 files [00:15, 92.22 files/s]\u001b[A\n",
            "Copying files: 1312 files [00:15, 84.71 files/s]\n"
          ]
        }
      ]
    }
  ]
}